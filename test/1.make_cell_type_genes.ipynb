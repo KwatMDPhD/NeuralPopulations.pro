{
 "cells": [
  {
   "cell_type": "code",
   "execution_count": 1,
   "id": "2f20211f",
   "metadata": {
    "execution": {
     "iopub.execute_input": "2022-07-07T21:19:37.526000Z",
     "iopub.status.busy": "2022-07-07T21:19:37.169000Z",
     "iopub.status.idle": "2022-07-07T21:19:43.342000Z",
     "shell.execute_reply": "2022-07-07T21:19:43.293000Z"
    }
   },
   "outputs": [],
   "source": [
    "using NeuralPopulations\n",
    "using OnePiece\n",
    "\n",
    "using DataFrames"
   ]
  },
  {
   "cell_type": "code",
   "execution_count": 2,
   "id": "b53548ad",
   "metadata": {
    "execution": {
     "iopub.execute_input": "2022-07-07T21:19:43.857000Z",
     "iopub.status.busy": "2022-07-07T21:19:43.345000Z",
     "iopub.status.idle": "2022-07-07T21:19:59.605000Z",
     "shell.execute_reply": "2022-07-07T21:19:59.605000Z"
    }
   },
   "outputs": [
    {
     "data": {
      "text/html": [
       "<div class=\"data-frame\"><p>5,000 rows × 2 columns</p><table class=\"data-frame\"><thead><tr><th></th><th>Gene</th><th>Cell Type</th></tr><tr><th></th><th title=\"Union{Missing, InlineStrings.String31}\">String31</th><th title=\"Union{Missing, InlineStrings.String15}\">String15</th></tr></thead><tbody><tr><th>1</th><td>GPR98</td><td>ast</td></tr><tr><th>2</th><td>AQP4</td><td>ast</td></tr><tr><th>3</th><td>GJA1</td><td>ast</td></tr><tr><th>4</th><td>ETNPPL</td><td>ast</td></tr><tr><th>5</th><td>BMPR1B</td><td>ast</td></tr><tr><th>6</th><td>SLC1A2</td><td>ast</td></tr><tr><th>7</th><td>GJB6</td><td>ast</td></tr><tr><th>8</th><td>SLC4A4</td><td>ast</td></tr><tr><th>9</th><td>RYR3</td><td>ast</td></tr><tr><th>10</th><td>SLCO1C1</td><td>ast</td></tr><tr><th>11</th><td>AGT</td><td>ast</td></tr><tr><th>12</th><td>F3</td><td>ast</td></tr><tr><th>13</th><td>CLU</td><td>ast</td></tr><tr><th>14</th><td>CLDN10</td><td>ast</td></tr><tr><th>15</th><td>SLC39A12</td><td>ast</td></tr><tr><th>16</th><td>ATP1A2</td><td>ast</td></tr><tr><th>17</th><td>RANBP3L</td><td>ast</td></tr><tr><th>18</th><td>ATP1B2</td><td>ast</td></tr><tr><th>19</th><td>EDNRB</td><td>ast</td></tr><tr><th>20</th><td>SDC4</td><td>ast</td></tr><tr><th>21</th><td>GPR37L1</td><td>ast</td></tr><tr><th>22</th><td>GABRA2</td><td>ast</td></tr><tr><th>23</th><td>SLC25A18</td><td>ast</td></tr><tr><th>24</th><td>EFEMP1</td><td>ast</td></tr><tr><th>25</th><td>FGFR3</td><td>ast</td></tr><tr><th>26</th><td>NCAN</td><td>ast</td></tr><tr><th>27</th><td>SLC7A11</td><td>ast</td></tr><tr><th>28</th><td>WIF1</td><td>ast</td></tr><tr><th>29</th><td>MGST1</td><td>ast</td></tr><tr><th>30</th><td>GFAP</td><td>ast</td></tr><tr><th>&vellip;</th><td>&vellip;</td><td>&vellip;</td></tr></tbody></table></div>"
      ],
      "text/latex": [
       "\\begin{tabular}{r|cc}\n",
       "\t& Gene & Cell Type\\\\\n",
       "\t\\hline\n",
       "\t& String31 & String15\\\\\n",
       "\t\\hline\n",
       "\t1 & GPR98 & ast \\\\\n",
       "\t2 & AQP4 & ast \\\\\n",
       "\t3 & GJA1 & ast \\\\\n",
       "\t4 & ETNPPL & ast \\\\\n",
       "\t5 & BMPR1B & ast \\\\\n",
       "\t6 & SLC1A2 & ast \\\\\n",
       "\t7 & GJB6 & ast \\\\\n",
       "\t8 & SLC4A4 & ast \\\\\n",
       "\t9 & RYR3 & ast \\\\\n",
       "\t10 & SLCO1C1 & ast \\\\\n",
       "\t11 & AGT & ast \\\\\n",
       "\t12 & F3 & ast \\\\\n",
       "\t13 & CLU & ast \\\\\n",
       "\t14 & CLDN10 & ast \\\\\n",
       "\t15 & SLC39A12 & ast \\\\\n",
       "\t16 & ATP1A2 & ast \\\\\n",
       "\t17 & RANBP3L & ast \\\\\n",
       "\t18 & ATP1B2 & ast \\\\\n",
       "\t19 & EDNRB & ast \\\\\n",
       "\t20 & SDC4 & ast \\\\\n",
       "\t21 & GPR37L1 & ast \\\\\n",
       "\t22 & GABRA2 & ast \\\\\n",
       "\t23 & SLC25A18 & ast \\\\\n",
       "\t24 & EFEMP1 & ast \\\\\n",
       "\t25 & FGFR3 & ast \\\\\n",
       "\t26 & NCAN & ast \\\\\n",
       "\t27 & SLC7A11 & ast \\\\\n",
       "\t28 & WIF1 & ast \\\\\n",
       "\t29 & MGST1 & ast \\\\\n",
       "\t30 & GFAP & ast \\\\\n",
       "\t$\\dots$ & $\\dots$ & $\\dots$ \\\\\n",
       "\\end{tabular}\n"
      ],
      "text/plain": [
       "\u001b[1m5000×2 DataFrame\u001b[0m\n",
       "\u001b[1m  Row \u001b[0m│\u001b[1m Gene        \u001b[0m\u001b[1m Cell Type \u001b[0m\n",
       "\u001b[1m      \u001b[0m│\u001b[90m String31    \u001b[0m\u001b[90m String15  \u001b[0m\n",
       "──────┼────────────────────────\n",
       "    1 │ GPR98        ast\n",
       "    2 │ AQP4         ast\n",
       "    3 │ GJA1         ast\n",
       "    4 │ ETNPPL       ast\n",
       "    5 │ BMPR1B       ast\n",
       "    6 │ SLC1A2       ast\n",
       "    7 │ GJB6         ast\n",
       "    8 │ SLC4A4       ast\n",
       "    9 │ RYR3         ast\n",
       "   10 │ SLCO1C1      ast\n",
       "   11 │ AGT          ast\n",
       "  ⋮   │      ⋮           ⋮\n",
       " 4991 │ GDE1         oli\n",
       " 4992 │ YPEL4        oli\n",
       " 4993 │ ZC3H13       oli\n",
       " 4994 │ NRIP2        oli\n",
       " 4995 │ RAB9B        oli\n",
       " 4996 │ SOX11        oli\n",
       " 4997 │ VSX1         oli\n",
       " 4998 │ CDKN1B       oli\n",
       " 4999 │ CDC42EP1     oli\n",
       " 5000 │ GATS         oli\n",
       "\u001b[36m              4979 rows omitted\u001b[0m"
      ]
     },
     "execution_count": 2,
     "metadata": {},
     "output_type": "execute_result"
    }
   ],
   "source": [
    "da = OnePiece.table.read(\n",
    "    joinpath(\n",
    "        PAI,\n",
    "        \"brain_cell_type_specific_gene_expression_and_co_expression_network_architectures\",\n",
    "        \"41598_2018_27293_moesm2_esm\",\n",
    "        \"top_human_enrich_table_1.tsv\",\n",
    "    ),\n",
    ")[\n",
    "    3:end,\n",
    "    4:5,\n",
    "]\n",
    "\n",
    "rename!(da, [\"Gene\", \"Cell Type\"])"
   ]
  },
  {
   "cell_type": "code",
   "execution_count": 3,
   "id": "05de1c4f",
   "metadata": {
    "execution": {
     "iopub.execute_input": "2022-07-07T21:19:59.609000Z",
     "iopub.status.busy": "2022-07-07T21:19:59.609000Z",
     "iopub.status.idle": "2022-07-07T21:20:14.565000Z",
     "shell.execute_reply": "2022-07-07T21:20:14.565000Z"
    }
   },
   "outputs": [
    {
     "name": "stdout",
     "output_type": "stream",
     "text": [
      "Kept 4481\n",
      "Named 178\n",
      "Failed 341\n"
     ]
    },
    {
     "data": {
      "text/plain": [
       "5000-element Vector{String}:\n",
       " \"ADGRV1\"\n",
       " \"AQP4\"\n",
       " \"GJA1\"\n",
       " \"ETNPPL\"\n",
       " \"BMPR1B\"\n",
       " \"SLC1A2\"\n",
       " \"GJB6\"\n",
       " \"SLC4A4\"\n",
       " \"RYR3\"\n",
       " \"SLCO1C1\"\n",
       " \"AGT\"\n",
       " \"F3\"\n",
       " \"CLU\"\n",
       " ⋮\n",
       " \"ZNF407-AS1\"\n",
       " \"LRRC1\"\n",
       " \"GDE1\"\n",
       " \"YPEL4\"\n",
       " \"ZC3H13\"\n",
       " \"NRIP2\"\n",
       " \"RAB9B\"\n",
       " \"SOX11\"\n",
       " \"VSX1\"\n",
       " \"CDKN1B\"\n",
       " \"CDC42EP1\"\n",
       " \"CASTOR3\""
      ]
     },
     "execution_count": 3,
     "metadata": {},
     "output_type": "execute_result"
    }
   ],
   "source": [
    "co = \"Gene\"\n",
    "\n",
    "da[!, co] = OnePiece.gene.rename(da[!, co])[1]"
   ]
  },
  {
   "cell_type": "code",
   "execution_count": 4,
   "id": "d3faae51",
   "metadata": {
    "execution": {
     "iopub.execute_input": "2022-07-07T21:20:14.568000Z",
     "iopub.status.busy": "2022-07-07T21:20:14.568000Z",
     "iopub.status.idle": "2022-07-07T21:20:14.652000Z",
     "shell.execute_reply": "2022-07-07T21:20:14.652000Z"
    }
   },
   "outputs": [
    {
     "data": {
      "text/plain": [
       "5000-element Vector{String}:\n",
       " \"Astrocytes\"\n",
       " \"Astrocytes\"\n",
       " \"Astrocytes\"\n",
       " \"Astrocytes\"\n",
       " \"Astrocytes\"\n",
       " \"Astrocytes\"\n",
       " \"Astrocytes\"\n",
       " \"Astrocytes\"\n",
       " \"Astrocytes\"\n",
       " \"Astrocytes\"\n",
       " \"Astrocytes\"\n",
       " \"Astrocytes\"\n",
       " \"Astrocytes\"\n",
       " ⋮\n",
       " \"Oligodendrocytes\"\n",
       " \"Oligodendrocytes\"\n",
       " \"Oligodendrocytes\"\n",
       " \"Oligodendrocytes\"\n",
       " \"Oligodendrocytes\"\n",
       " \"Oligodendrocytes\"\n",
       " \"Oligodendrocytes\"\n",
       " \"Oligodendrocytes\"\n",
       " \"Oligodendrocytes\"\n",
       " \"Oligodendrocytes\"\n",
       " \"Oligodendrocytes\"\n",
       " \"Oligodendrocytes\""
      ]
     },
     "execution_count": 4,
     "metadata": {},
     "output_type": "execute_result"
    }
   ],
   "source": [
    "ce_ti = Dict(\n",
    "    \"ast\" => \"Astrocytes\",\n",
    "    \"end\" => \"Endothelial cells\",\n",
    "    \"mic\" => \"Microglia\",\n",
    "    \"neu\" => \"Neurons\",\n",
    "    \"oli\" => \"Oligodendrocytes\",\n",
    ")\n",
    "\n",
    "co = \"Cell Type\"\n",
    "\n",
    "da[!, co] = [ce_ti[ce] for ce in da[!, co]]"
   ]
  },
  {
   "cell_type": "code",
   "execution_count": 5,
   "id": "c6469df7",
   "metadata": {
    "execution": {
     "iopub.execute_input": "2022-07-07T21:20:14.655000Z",
     "iopub.status.busy": "2022-07-07T21:20:14.655000Z",
     "iopub.status.idle": "2022-07-07T21:20:15.598000Z",
     "shell.execute_reply": "2022-07-07T21:20:15.597000Z"
    }
   },
   "outputs": [
    {
     "data": {
      "text/plain": [
       "Dict{String, Vector{Any}} with 5 entries:\n",
       "  \"Neurons\"           => [\"DLX6-AS1\", \"CNR1\", \"SYT1\", \"SYNPR\", \"GABRA1\", \"RELN\"…\n",
       "  \"Astrocytes\"        => [\"ADGRV1\", \"AQP4\", \"GJA1\", \"ETNPPL\", \"BMPR1B\", \"SLC1A2…\n",
       "  \"Oligodendrocytes\"  => [\"PLP1\", \"TF\", \"UGT8\", \"ERMN\", \"MOBP\", \"CLDN11\", \"CNDP…\n",
       "  \"Endothelial cells\" => [\"APOLD1\", \"CAVIN2\", \"RGS5\", \"TM4SF1\", \"ABCG2\", \"ADGRF…\n",
       "  \"Microglia\"         => [\"OLR1\", \"CCL4\", \"CD74\", \"GPR183\", \"CCL3\", \"CCL4L1\", \"…"
      ]
     },
     "execution_count": 5,
     "metadata": {},
     "output_type": "execute_result"
    }
   ],
   "source": [
    "ce_ge_ = Dict(ti => [] for ti in values(ce_ti))\n",
    "\n",
    "for (ge, ce) in eachrow(da)\n",
    "\n",
    "    push!(ce_ge_[ce], ge)\n",
    "\n",
    "end\n",
    "\n",
    "ce_ge_"
   ]
  },
  {
   "cell_type": "code",
   "execution_count": 6,
   "id": "2d3331ac",
   "metadata": {
    "execution": {
     "iopub.execute_input": "2022-07-07T21:20:15.601000Z",
     "iopub.status.busy": "2022-07-07T21:20:15.600000Z",
     "iopub.status.idle": "2022-07-07T21:20:15.729000Z",
     "shell.execute_reply": "2022-07-07T21:20:15.729000Z"
    }
   },
   "outputs": [
    {
     "name": "stdout",
     "output_type": "stream",
     "text": [
      "1000\tNeurons\n",
      "1000\tAstrocytes\n",
      "1000\tOligodendrocytes\n",
      "1000\tEndothelial cells\n",
      "1000\tMicroglia\n"
     ]
    }
   ],
   "source": [
    "OnePiece.dict.write(joinpath(PAO, \"cell_type_genes.json\"), ce_ge_)\n",
    "\n",
    "for (ce, ge_) in ce_ge_\n",
    "\n",
    "    println(\"$(length(ge_))\\t$ce\")\n",
    "\n",
    "end"
   ]
  }
 ],
 "metadata": {
  "@webio": {
   "lastCommId": null,
   "lastKernelId": null
  },
  "kernelspec": {
   "display_name": "Julia 1.7.3",
   "language": "julia",
   "name": "julia-1.7"
  },
  "language_info": {
   "file_extension": ".jl",
   "mimetype": "application/julia",
   "name": "julia",
   "version": "1.7.3"
  }
 },
 "nbformat": 4,
 "nbformat_minor": 5
}
