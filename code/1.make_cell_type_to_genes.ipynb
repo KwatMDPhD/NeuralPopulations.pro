{
 "cells": [
  {
   "cell_type": "code",
   "execution_count": null,
   "id": "2f20211f",
   "metadata": {
    "execution": {
     "iopub.execute_input": "2021-12-07T23:21:52.673339Z",
     "iopub.status.busy": "2021-12-07T23:21:52.185967Z",
     "iopub.status.idle": "2021-12-07T23:21:58.832126Z",
     "shell.execute_reply": "2021-12-07T23:21:58.831524Z"
    }
   },
   "outputs": [],
   "source": [
    "include(\"_.jl\")"
   ]
  },
  {
   "cell_type": "code",
   "execution_count": null,
   "id": "bf8d0cc1",
   "metadata": {
    "execution": {
     "iopub.execute_input": "2021-12-07T23:21:59.130760Z",
     "iopub.status.busy": "2021-12-07T23:21:58.833477Z",
     "iopub.status.idle": "2021-12-07T23:23:05.441951Z",
     "shell.execute_reply": "2021-12-07T23:23:05.441387Z"
    }
   },
   "outputs": [],
   "source": [
    "df = TableAccess.read(\n",
    "    \"../input/brain_cell_type_specific_gene_expression_and_co_expression_network_architectures/41598_2018_27293_moesm2_esm/top_human_enrich_table_1.tsv\",\n",
    ")[\n",
    "    3:end,\n",
    "    4:5,\n",
    "]\n",
    "\n",
    "rename!(df, [\"Gene\", \"Cell Type\"])\n",
    "\n",
    "co = \"Gene\"\n",
    "\n",
    "df[!, co] = Gene.rename(string.(df[!, co]))[1]\n",
    "\n",
    "df"
   ]
  },
  {
   "cell_type": "code",
   "execution_count": null,
   "id": "c6469df7",
   "metadata": {
    "execution": {
     "iopub.execute_input": "2021-12-07T23:23:05.444376Z",
     "iopub.status.busy": "2021-12-07T23:23:05.443658Z",
     "iopub.status.idle": "2021-12-07T23:23:07.189372Z",
     "shell.execute_reply": "2021-12-07T23:23:07.188779Z"
    }
   },
   "outputs": [],
   "source": [
    "ce_ge_ = Dict(string(ce) => Vector{String}() for ce in unique(df[!, \"Cell Type\"]))\n",
    "\n",
    "for (ge, ce) in eachrow(df)\n",
    "\n",
    "    push!(ce_ge_[ce], ge)\n",
    "\n",
    "end\n",
    "\n",
    "ce_ge_"
   ]
  },
  {
   "cell_type": "code",
   "execution_count": null,
   "id": "2d3331ac",
   "metadata": {
    "execution": {
     "iopub.execute_input": "2021-12-07T23:23:07.191672Z",
     "iopub.status.busy": "2021-12-07T23:23:07.190950Z",
     "iopub.status.idle": "2021-12-07T23:23:07.358961Z",
     "shell.execute_reply": "2021-12-07T23:23:07.358199Z"
    }
   },
   "outputs": [],
   "source": [
    "DictExtension.write(joinpath(PAO, \"cell_type_to_genes.json\"), ce_ge_)"
   ]
  }
 ],
 "metadata": {
  "@webio": {
   "lastCommId": null,
   "lastKernelId": null
  },
  "kernelspec": {
   "display_name": "Julia 1.7.0",
   "language": "julia",
   "name": "julia-1.7"
  },
  "language_info": {
   "file_extension": ".jl",
   "mimetype": "application/julia",
   "name": "julia",
   "version": "1.7.0"
  }
 },
 "nbformat": 4,
 "nbformat_minor": 5
}
