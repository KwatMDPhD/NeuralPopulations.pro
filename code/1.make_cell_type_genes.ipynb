{
 "cells": [
  {
   "cell_type": "code",
   "execution_count": null,
   "id": "2f20211f",
   "metadata": {},
   "outputs": [],
   "source": [
    "include(\"_.jl\")\n",
    "\n",
    "using DataFrames"
   ]
  },
  {
   "cell_type": "code",
   "execution_count": null,
   "id": "b53548ad",
   "metadata": {},
   "outputs": [],
   "source": [
    "da = OnePiece.table.read(\n",
    "    joinpath(\n",
    "        RO,\n",
    "        \"input\",\n",
    "        \"brain_cell_type_specific_gene_expression_and_co_expression_network_architectures\",\n",
    "        \"41598_2018_27293_moesm2_esm\",\n",
    "        \"top_human_enrich_table_1.tsv\",\n",
    "    ),\n",
    ")[\n",
    "    3:end,\n",
    "    4:5,\n",
    "]\n",
    "\n",
    "rename!(da, [\"Gene\", \"Cell Type\"])"
   ]
  },
  {
   "cell_type": "code",
   "execution_count": null,
   "id": "05de1c4f",
   "metadata": {},
   "outputs": [],
   "source": [
    "co = \"Gene\"\n",
    "\n",
    "da[!, co] = OnePiece.gene.rename(da[!, co])[1]"
   ]
  },
  {
   "cell_type": "code",
   "execution_count": null,
   "id": "d3faae51",
   "metadata": {},
   "outputs": [],
   "source": [
    "ce_ti = Dict(\n",
    "    \"ast\" => \"Astrocytes\",\n",
    "    \"end\" => \"Endothelial cells\",\n",
    "    \"mic\" => \"Microglia\",\n",
    "    \"neu\" => \"Neurons\",\n",
    "    \"oli\" => \"Oligodendrocytes\",\n",
    ")\n",
    "\n",
    "co = \"Cell Type\"\n",
    "\n",
    "da[!, co] = [ce_ti[ce] for ce in da[!, co]]"
   ]
  },
  {
   "cell_type": "code",
   "execution_count": null,
   "id": "c6469df7",
   "metadata": {},
   "outputs": [],
   "source": [
    "ce_ge_ = Dict(ti => [] for ti in values(ce_ti))\n",
    "\n",
    "for (ge, ce) in eachrow(da)\n",
    "\n",
    "    push!(ce_ge_[ce], ge)\n",
    "\n",
    "end\n",
    "\n",
    "ce_ge_"
   ]
  },
  {
   "cell_type": "code",
   "execution_count": null,
   "id": "2d3331ac",
   "metadata": {},
   "outputs": [],
   "source": [
    "OnePiece.dict.write(joinpath(RO, \"output\", \"cell_type_genes.json\"), ce_ge_)\n",
    "\n",
    "for (ce, ge_) in ce_ge_\n",
    "\n",
    "    println(\"$(length(ge_))\\t$ce\")\n",
    "\n",
    "end"
   ]
  }
 ],
 "metadata": {
  "@webio": {
   "lastCommId": null,
   "lastKernelId": null
  },
  "kernelspec": {
   "display_name": "Julia 1.7.3",
   "language": "julia",
   "name": "julia-1.7"
  },
  "language_info": {
   "file_extension": ".jl",
   "mimetype": "application/julia",
   "name": "julia",
   "version": "1.7.3"
  }
 },
 "nbformat": 4,
 "nbformat_minor": 5
}
