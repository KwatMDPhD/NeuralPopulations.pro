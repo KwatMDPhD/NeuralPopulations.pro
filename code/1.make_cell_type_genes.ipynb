{
 "cells": [
  {
   "cell_type": "code",
   "execution_count": null,
   "id": "2f20211f",
   "metadata": {
    "execution": {
     "iopub.execute_input": "2021-12-07T23:21:52.673339Z",
     "iopub.status.busy": "2021-12-07T23:21:52.185967Z",
     "iopub.status.idle": "2021-12-07T23:21:58.832126Z",
     "shell.execute_reply": "2021-12-07T23:21:58.831524Z"
    }
   },
   "outputs": [],
   "source": [
    "include(\"_.jl\")"
   ]
  },
  {
   "cell_type": "code",
   "execution_count": null,
   "id": "b53548ad",
   "metadata": {
    "execution": {
     "iopub.execute_input": "2021-12-07T23:21:59.130760Z",
     "iopub.status.busy": "2021-12-07T23:21:58.833477Z",
     "iopub.status.idle": "2021-12-07T23:23:05.441951Z",
     "shell.execute_reply": "2021-12-07T23:23:05.441387Z"
    }
   },
   "outputs": [],
   "source": [
    "da = OnePiece.table.read(\n",
    "    joinpath(\n",
    "        PAI,\n",
    "        \"brain_cell_type_specific_gene_expression_and_co_expression_network_architectures\",\n",
    "        \"41598_2018_27293_moesm2_esm\",\n",
    "        \"top_human_enrich_table_1.tsv\",\n",
    "    ),\n",
    ")[\n",
    "    3:end,\n",
    "    4:5,\n",
    "]\n",
    "\n",
    "rename!(da, [\"Gene\", \"Cell Type\"])"
   ]
  },
  {
   "cell_type": "code",
   "execution_count": null,
   "id": "05de1c4f",
   "metadata": {
    "execution": {
     "iopub.execute_input": "2021-12-07T23:21:59.130760Z",
     "iopub.status.busy": "2021-12-07T23:21:58.833477Z",
     "iopub.status.idle": "2021-12-07T23:23:05.441951Z",
     "shell.execute_reply": "2021-12-07T23:23:05.441387Z"
    }
   },
   "outputs": [],
   "source": [
    "co = \"Gene\"\n",
    "\n",
    "da[!, co] = OnePiece.gene.rename(da[!, co])[1]"
   ]
  },
  {
   "cell_type": "code",
   "execution_count": null,
   "id": "d3faae51",
   "metadata": {},
   "outputs": [],
   "source": [
    "ce_ti = Dict(\n",
    "    \"ast\" => \"Astrocytes\",\n",
    "    \"end\" => \"Endothelial cells\",\n",
    "    \"mic\" => \"Microglia\",\n",
    "    \"neu\" => \"Neurons\",\n",
    "    \"oli\" => \"Oligodendrocytes\",\n",
    ")\n",
    "\n",
    "co = \"Cell Type\"\n",
    "\n",
    "da[!, co] = [ce_ti[ce] for ce in da[!, co]]"
   ]
  },
  {
   "cell_type": "code",
   "execution_count": null,
   "id": "c6469df7",
   "metadata": {
    "execution": {
     "iopub.execute_input": "2021-12-07T23:23:05.444376Z",
     "iopub.status.busy": "2021-12-07T23:23:05.443658Z",
     "iopub.status.idle": "2021-12-07T23:23:07.189372Z",
     "shell.execute_reply": "2021-12-07T23:23:07.188779Z"
    }
   },
   "outputs": [],
   "source": [
    "ce_ge_ = Dict(ti => [] for ti in values(ce_ti))\n",
    "\n",
    "for (ge, ce) in eachrow(da)\n",
    "\n",
    "    push!(ce_ge_[ce], ge)\n",
    "\n",
    "end\n",
    "\n",
    "ce_ge_"
   ]
  },
  {
   "cell_type": "code",
   "execution_count": null,
   "id": "2d3331ac",
   "metadata": {
    "execution": {
     "iopub.execute_input": "2021-12-07T23:23:07.191672Z",
     "iopub.status.busy": "2021-12-07T23:23:07.190950Z",
     "iopub.status.idle": "2021-12-07T23:23:07.358961Z",
     "shell.execute_reply": "2021-12-07T23:23:07.358199Z"
    }
   },
   "outputs": [],
   "source": [
    "OnePiece.dict.write(joinpath(PAO, \"cell_type_genes.json\"), ce_ge_)\n",
    "\n",
    "for (ce, ge_) in ce_ge_\n",
    "\n",
    "    println(\"$(length(ge_))\\t$ce\")\n",
    "\n",
    "end"
   ]
  }
 ],
 "metadata": {
  "@webio": {
   "lastCommId": null,
   "lastKernelId": null
  },
  "kernelspec": {
   "display_name": "Julia 1.7.2",
   "language": "julia",
   "name": "julia-1.7"
  },
  "language_info": {
   "file_extension": ".jl",
   "mimetype": "application/julia",
   "name": "julia",
   "version": "1.7.2"
  }
 },
 "nbformat": 4,
 "nbformat_minor": 5
}
